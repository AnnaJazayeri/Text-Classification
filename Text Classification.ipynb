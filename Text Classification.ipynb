{
 "cells": [
  {
   "cell_type": "markdown",
   "id": "c6deb1bf",
   "metadata": {},
   "source": [
    "## Anna Jazayeri 131661209\n",
    "### Workshop 5\n",
    "### Text Mining BDM 550"
   ]
  },
  {
   "cell_type": "code",
   "execution_count": 1,
   "id": "b18a3507",
   "metadata": {},
   "outputs": [],
   "source": [
    "import zipfile\n",
    "from nltk.tokenize import word_tokenize\n",
    "from nltk.corpus import stopwords\n",
    "import os\n",
    "import nltk\n",
    "from sklearn.feature_extraction.text import TfidfVectorizer"
   ]
  },
  {
   "cell_type": "markdown",
   "id": "35a27c58",
   "metadata": {},
   "source": [
    "import numpy as np\n",
    "import re\n",
    "\n",
    "from sklearn.feature_extraction.text import TfidfTransformer\n",
    "import pandas as pd\n",
    "from sklearn.model_selection import train_test_split\n",
    "from sklearn.naive_bayes import *\n",
    "from sklearn.metrics import classification_report, confusion_matrix, accuracy_score\n",
    "from sklearn.ensemble import RandomForestClassifier\n",
    "from sklearn.tree import DecisionTreeClassifier\n",
    "from nltk.corpus import PlaintextCorpusReader"
   ]
  },
  {
   "cell_type": "markdown",
   "id": "24580539",
   "metadata": {},
   "source": [
    "## <span style=\"color:blue;\">Task 1: Preprocess the text to remove any stop words or punctuations.</span>"
   ]
  },
  {
   "cell_type": "code",
   "execution_count": 2,
   "id": "bb86b6c1",
   "metadata": {},
   "outputs": [],
   "source": [
    "# first of all I must loading the files \n",
    "# import zipfile\n",
    "# Download and unzip the labeled and unlabeled datasets\n",
    "with zipfile.ZipFile('labeled_dataset.zip', 'r') as labeled_zip:\n",
    "    labeled_zip.extractall('labeled_dataset')\n",
    "\n",
    "with zipfile.ZipFile('unlabeled_dataset.zip', 'r') as unlabeled_zip:\n",
    "    unlabeled_zip.extractall('unlabeled_dataset')"
   ]
  },
  {
   "cell_type": "code",
   "execution_count": 3,
   "id": "b63934d7",
   "metadata": {},
   "outputs": [],
   "source": [
    "# assigning the labeled and unlabeled datasets\n",
    "label = 'labeled_dataset'\n",
    "unlabel = 'unlabeled_dataset'"
   ]
  },
  {
   "cell_type": "code",
   "execution_count": 4,
   "id": "bd3c2fdf",
   "metadata": {},
   "outputs": [],
   "source": [
    "# Now I must remove  the stopwords and punctuations\n",
    "# I create a funcion for this \n",
    "# from nltk.corpus import stopwords\n",
    "# import os\n",
    "# from nltk.tokenize import word_tokenize\n",
    "# import nltk\n",
    "\n",
    "def remove_stop_punc(txt):\n",
    "    # Tokenizing the text\n",
    "    tokens = nltk.word_tokenize(txt)\n",
    "    # removing the stopwords and punctuations\n",
    "    tokens = [word.lower() for word in tokens if word.isalnum() and word.lower() not in stopwords.words('english')]\n",
    "    # now the cleaned tokens must be join together as a string\n",
    "    clean_txt = ' '.join(tokens)\n",
    "    return clean_txt\n",
    "\n",
    "# now we should use a for loop to cleaning each corpura and then \n",
    "# and then storing those cleaned corpura inside of a list \n",
    "clean_label = []\n",
    "clean_unlabel = []\n",
    "\n",
    "# a for loop for cleaning the labeled texts\n",
    "for file in os.listdir(label):\n",
    "    if os.path.isfile(os.path.join(label, file)):\n",
    "        with open(os.path.join(label, file), 'r', encoding='utf-8') as file:\n",
    "            for line in file:\n",
    "                clean_label.append(remove_stop_punc(line.strip()))\n",
    "\n",
    "                \n",
    "# a for loop for cleaning the unlabeled texts\n",
    "for file in os.listdir(unlabel):\n",
    "    if os.path.isfile(os.path.join(unlabel, file)):\n",
    "        with open(os.path.join(unlabel, file), 'r', encoding='utf-8') as file:\n",
    "            for line in file:\n",
    "                clean_unlabel.append(remove_stop_punc(line.strip()))\n",
    "                "
   ]
  },
  {
   "cell_type": "code",
   "execution_count": 5,
   "id": "94b64674",
   "metadata": {},
   "outputs": [
    {
     "data": {
      "text/plain": [
       "['abstract',\n",
       " 'misc although internet level topology extensively studied past years little known details taxonomy',\n",
       " 'misc node represent wide variety organizations e g large isp small private business university vastly different network characteristics external connectivity patterns network growth tendencies properties hardly neglect working veracious internet representations simulation environments',\n",
       " 'aimx paper introduce radically new approach based machine learning techniques map ases internet natural taxonomy',\n",
       " 'ownx successfully classify number number percent ases expected accuracy number number percent']"
      ]
     },
     "execution_count": 5,
     "metadata": {},
     "output_type": "execute_result"
    }
   ],
   "source": [
    "# lets see our clean label list just for first 5 lines\n",
    "clean_label[:5]"
   ]
  },
  {
   "cell_type": "code",
   "execution_count": 6,
   "id": "8fa467ef",
   "metadata": {
    "scrolled": true
   },
   "outputs": [
    {
     "data": {
      "text/plain": [
       "['abstract',\n",
       " 'transporter analyses conducted 141 organisms whose complete genome sequences available',\n",
       " 'organism complete set membrane transport systems identified predicted functions classified protein families based transporter classification system',\n",
       " 'organisms larger genome sizes generally possessed relatively greater number transport systems',\n",
       " 'prokaryotes unicellular eukaryotes significant factor increase transporter content genome size greater diversity transporter types']"
      ]
     },
     "execution_count": 6,
     "metadata": {},
     "output_type": "execute_result"
    }
   ],
   "source": [
    "# lets see our clean unlabel list just for first 5 lines\n",
    "clean_unlabel[:5]"
   ]
  },
  {
   "cell_type": "markdown",
   "id": "a20a20cc",
   "metadata": {},
   "source": [
    "## <span style=\"color:blue;\">Task 2: Use TF-IDF to vectorize the sentences.</span>"
   ]
  },
  {
   "cell_type": "code",
   "execution_count": 7,
   "id": "84ba30c7",
   "metadata": {},
   "outputs": [],
   "source": [
    "# from sklearn.feature_extraction.text import TfidfVectorizer\n",
    "\n",
    "# vectorizing with TF-IDF vectorizer\n",
    "tfidf_vectorizer = TfidfVectorizer()\n",
    "# Fiting and transforming our clean label data\n",
    "tfidf_label = tfidf_vectorizer.fit_transform(clean_label)\n",
    "# Fiting and transforming our clean unlabel data\n",
    "tfidf_unlabel = tfidf_vectorizer.transform(clean_unlabel)"
   ]
  },
  {
   "cell_type": "markdown",
   "id": "19599ee4",
   "metadata": {},
   "source": [
    "## <span style=\"color:blue;\">Task 3: Use Scikit learn to create a (naïve bayes) classifier.</span>\n",
    "\n",
    "<span style=\"color:blue;\">**First create a classifier (naïve bayes) to classify the given dataset into 6 categories: (AIMX, OWNX, CONT, BASE, NUMBER, and MISC).<br>Then, use the classifier to label the sentences in the unlabeled dataset.**</span>\n",
    "\n"
   ]
  },
  {
   "cell_type": "code",
   "execution_count": 9,
   "id": "9fbc7511",
   "metadata": {},
   "outputs": [
    {
     "ename": "ValueError",
     "evalue": "Found input variables with inconsistent numbers of samples: [335, 6]",
     "output_type": "error",
     "traceback": [
      "\u001b[1;31m---------------------------------------------------------------------------\u001b[0m",
      "\u001b[1;31mValueError\u001b[0m                                Traceback (most recent call last)",
      "Cell \u001b[1;32mIn[9], line 15\u001b[0m\n\u001b[0;32m     12\u001b[0m classifier \u001b[38;5;241m=\u001b[39m make_pipeline(TfidfTransformer(), MultinomialNB())\n\u001b[0;32m     14\u001b[0m \u001b[38;5;66;03m# Splitting the labeled data into training and testing sets\u001b[39;00m\n\u001b[1;32m---> 15\u001b[0m X_train, X_test, y_train, y_test \u001b[38;5;241m=\u001b[39m \u001b[43mtrain_test_split\u001b[49m\u001b[43m(\u001b[49m\u001b[43mtfidf_label\u001b[49m\u001b[43m,\u001b[49m\u001b[43m \u001b[49m\u001b[43mlabels\u001b[49m\u001b[43m,\u001b[49m\u001b[43m \u001b[49m\u001b[43mtest_size\u001b[49m\u001b[38;5;241;43m=\u001b[39;49m\u001b[38;5;241;43m0.2\u001b[39;49m\u001b[43m,\u001b[49m\u001b[43m \u001b[49m\u001b[43mrandom_state\u001b[49m\u001b[38;5;241;43m=\u001b[39;49m\u001b[38;5;241;43m42\u001b[39;49m\u001b[43m)\u001b[49m\n\u001b[0;32m     17\u001b[0m \u001b[38;5;66;03m# Training the classifier\u001b[39;00m\n\u001b[0;32m     18\u001b[0m classifier\u001b[38;5;241m.\u001b[39mfit(X_train, y_train)\n",
      "File \u001b[1;32m~\\anaconda3\\Lib\\site-packages\\sklearn\\utils\\_param_validation.py:211\u001b[0m, in \u001b[0;36mvalidate_params.<locals>.decorator.<locals>.wrapper\u001b[1;34m(*args, **kwargs)\u001b[0m\n\u001b[0;32m    205\u001b[0m \u001b[38;5;28;01mtry\u001b[39;00m:\n\u001b[0;32m    206\u001b[0m     \u001b[38;5;28;01mwith\u001b[39;00m config_context(\n\u001b[0;32m    207\u001b[0m         skip_parameter_validation\u001b[38;5;241m=\u001b[39m(\n\u001b[0;32m    208\u001b[0m             prefer_skip_nested_validation \u001b[38;5;129;01mor\u001b[39;00m global_skip_validation\n\u001b[0;32m    209\u001b[0m         )\n\u001b[0;32m    210\u001b[0m     ):\n\u001b[1;32m--> 211\u001b[0m         \u001b[38;5;28;01mreturn\u001b[39;00m \u001b[43mfunc\u001b[49m\u001b[43m(\u001b[49m\u001b[38;5;241;43m*\u001b[39;49m\u001b[43margs\u001b[49m\u001b[43m,\u001b[49m\u001b[43m \u001b[49m\u001b[38;5;241;43m*\u001b[39;49m\u001b[38;5;241;43m*\u001b[39;49m\u001b[43mkwargs\u001b[49m\u001b[43m)\u001b[49m\n\u001b[0;32m    212\u001b[0m \u001b[38;5;28;01mexcept\u001b[39;00m InvalidParameterError \u001b[38;5;28;01mas\u001b[39;00m e:\n\u001b[0;32m    213\u001b[0m     \u001b[38;5;66;03m# When the function is just a wrapper around an estimator, we allow\u001b[39;00m\n\u001b[0;32m    214\u001b[0m     \u001b[38;5;66;03m# the function to delegate validation to the estimator, but we replace\u001b[39;00m\n\u001b[0;32m    215\u001b[0m     \u001b[38;5;66;03m# the name of the estimator by the name of the function in the error\u001b[39;00m\n\u001b[0;32m    216\u001b[0m     \u001b[38;5;66;03m# message to avoid confusion.\u001b[39;00m\n\u001b[0;32m    217\u001b[0m     msg \u001b[38;5;241m=\u001b[39m re\u001b[38;5;241m.\u001b[39msub(\n\u001b[0;32m    218\u001b[0m         \u001b[38;5;124mr\u001b[39m\u001b[38;5;124m\"\u001b[39m\u001b[38;5;124mparameter of \u001b[39m\u001b[38;5;124m\\\u001b[39m\u001b[38;5;124mw+ must be\u001b[39m\u001b[38;5;124m\"\u001b[39m,\n\u001b[0;32m    219\u001b[0m         \u001b[38;5;124mf\u001b[39m\u001b[38;5;124m\"\u001b[39m\u001b[38;5;124mparameter of \u001b[39m\u001b[38;5;132;01m{\u001b[39;00mfunc\u001b[38;5;241m.\u001b[39m\u001b[38;5;18m__qualname__\u001b[39m\u001b[38;5;132;01m}\u001b[39;00m\u001b[38;5;124m must be\u001b[39m\u001b[38;5;124m\"\u001b[39m,\n\u001b[0;32m    220\u001b[0m         \u001b[38;5;28mstr\u001b[39m(e),\n\u001b[0;32m    221\u001b[0m     )\n",
      "File \u001b[1;32m~\\anaconda3\\Lib\\site-packages\\sklearn\\model_selection\\_split.py:2614\u001b[0m, in \u001b[0;36mtrain_test_split\u001b[1;34m(test_size, train_size, random_state, shuffle, stratify, *arrays)\u001b[0m\n\u001b[0;32m   2611\u001b[0m \u001b[38;5;28;01mif\u001b[39;00m n_arrays \u001b[38;5;241m==\u001b[39m \u001b[38;5;241m0\u001b[39m:\n\u001b[0;32m   2612\u001b[0m     \u001b[38;5;28;01mraise\u001b[39;00m \u001b[38;5;167;01mValueError\u001b[39;00m(\u001b[38;5;124m\"\u001b[39m\u001b[38;5;124mAt least one array required as input\u001b[39m\u001b[38;5;124m\"\u001b[39m)\n\u001b[1;32m-> 2614\u001b[0m arrays \u001b[38;5;241m=\u001b[39m \u001b[43mindexable\u001b[49m\u001b[43m(\u001b[49m\u001b[38;5;241;43m*\u001b[39;49m\u001b[43marrays\u001b[49m\u001b[43m)\u001b[49m\n\u001b[0;32m   2616\u001b[0m n_samples \u001b[38;5;241m=\u001b[39m _num_samples(arrays[\u001b[38;5;241m0\u001b[39m])\n\u001b[0;32m   2617\u001b[0m n_train, n_test \u001b[38;5;241m=\u001b[39m _validate_shuffle_split(\n\u001b[0;32m   2618\u001b[0m     n_samples, test_size, train_size, default_test_size\u001b[38;5;241m=\u001b[39m\u001b[38;5;241m0.25\u001b[39m\n\u001b[0;32m   2619\u001b[0m )\n",
      "File \u001b[1;32m~\\anaconda3\\Lib\\site-packages\\sklearn\\utils\\validation.py:455\u001b[0m, in \u001b[0;36mindexable\u001b[1;34m(*iterables)\u001b[0m\n\u001b[0;32m    436\u001b[0m \u001b[38;5;250m\u001b[39m\u001b[38;5;124;03m\"\"\"Make arrays indexable for cross-validation.\u001b[39;00m\n\u001b[0;32m    437\u001b[0m \n\u001b[0;32m    438\u001b[0m \u001b[38;5;124;03mChecks consistent length, passes through None, and ensures that everything\u001b[39;00m\n\u001b[1;32m   (...)\u001b[0m\n\u001b[0;32m    451\u001b[0m \u001b[38;5;124;03m    sparse matrix, or dataframe) or `None`.\u001b[39;00m\n\u001b[0;32m    452\u001b[0m \u001b[38;5;124;03m\"\"\"\u001b[39;00m\n\u001b[0;32m    454\u001b[0m result \u001b[38;5;241m=\u001b[39m [_make_indexable(X) \u001b[38;5;28;01mfor\u001b[39;00m X \u001b[38;5;129;01min\u001b[39;00m iterables]\n\u001b[1;32m--> 455\u001b[0m \u001b[43mcheck_consistent_length\u001b[49m\u001b[43m(\u001b[49m\u001b[38;5;241;43m*\u001b[39;49m\u001b[43mresult\u001b[49m\u001b[43m)\u001b[49m\n\u001b[0;32m    456\u001b[0m \u001b[38;5;28;01mreturn\u001b[39;00m result\n",
      "File \u001b[1;32m~\\anaconda3\\Lib\\site-packages\\sklearn\\utils\\validation.py:409\u001b[0m, in \u001b[0;36mcheck_consistent_length\u001b[1;34m(*arrays)\u001b[0m\n\u001b[0;32m    407\u001b[0m uniques \u001b[38;5;241m=\u001b[39m np\u001b[38;5;241m.\u001b[39munique(lengths)\n\u001b[0;32m    408\u001b[0m \u001b[38;5;28;01mif\u001b[39;00m \u001b[38;5;28mlen\u001b[39m(uniques) \u001b[38;5;241m>\u001b[39m \u001b[38;5;241m1\u001b[39m:\n\u001b[1;32m--> 409\u001b[0m     \u001b[38;5;28;01mraise\u001b[39;00m \u001b[38;5;167;01mValueError\u001b[39;00m(\n\u001b[0;32m    410\u001b[0m         \u001b[38;5;124m\"\u001b[39m\u001b[38;5;124mFound input variables with inconsistent numbers of samples: \u001b[39m\u001b[38;5;132;01m%r\u001b[39;00m\u001b[38;5;124m\"\u001b[39m\n\u001b[0;32m    411\u001b[0m         \u001b[38;5;241m%\u001b[39m [\u001b[38;5;28mint\u001b[39m(l) \u001b[38;5;28;01mfor\u001b[39;00m l \u001b[38;5;129;01min\u001b[39;00m lengths]\n\u001b[0;32m    412\u001b[0m     )\n",
      "\u001b[1;31mValueError\u001b[0m: Found input variables with inconsistent numbers of samples: [335, 6]"
     ]
    }
   ],
   "source": [
    "from sklearn.feature_extraction.text import TfidfTransformer\n",
    "from sklearn.naive_bayes import MultinomialNB\n",
    "from sklearn.pipeline import make_pipeline\n",
    "from sklearn.model_selection import train_test_split\n",
    "from sklearn.metrics import accuracy_score, classification_report\n",
    "\n",
    "# Assuming you have the labels for the labeled dataset\n",
    "# You can replace this with the actual labels you have\n",
    "labels = [\"AIMX\", \"OWNX\", \"CONT\", \"BASE\", \"NUMBER\", \"MISC\"]\n",
    "\n",
    "# Creating a Naive Bayes classifier\n",
    "classifier = make_pipeline(TfidfTransformer(), MultinomialNB())\n",
    "\n",
    "# Splitting the labeled data into training and testing sets\n",
    "X_train, X_test, y_train, y_test = train_test_split(tfidf_label, labels, test_size=0.2, random_state=42)\n",
    "\n",
    "# Training the classifier\n",
    "classifier.fit(X_train, y_train)\n",
    "\n",
    "# Predicting labels for the test set\n",
    "y_pred = classifier.predict(X_test)\n",
    "\n",
    "# Evaluating the classifier\n",
    "print(\"Accuracy:\", accuracy_score(y_test, y_pred))\n",
    "print(\"Classification Report:\\n\", classification_report(y_test, y_pred))\n",
    "\n",
    "# Now, use the trained classifier to predict labels for the unlabeled dataset\n",
    "predicted_labels = classifier.predict(tfidf_unlabel)\n",
    "\n",
    "# Print the predicted labels for the unlabeled dataset\n",
    "for i, label in enumerate(predicted_labels):\n",
    "    print(f\"Document {i + 1}: Predicted Label - {label}\")\n"
   ]
  },
  {
   "cell_type": "code",
   "execution_count": null,
   "id": "f383fa01",
   "metadata": {},
   "outputs": [],
   "source": []
  },
  {
   "cell_type": "markdown",
   "id": "d52ebb92",
   "metadata": {},
   "source": [
    "## <span style=\"color:blue;\">Task 4: Summarize your work and your findings in a few sentences.</span>"
   ]
  },
  {
   "cell_type": "code",
   "execution_count": null,
   "id": "bcb2fc4e",
   "metadata": {},
   "outputs": [],
   "source": []
  },
  {
   "cell_type": "code",
   "execution_count": null,
   "id": "90f139d4",
   "metadata": {},
   "outputs": [],
   "source": []
  },
  {
   "cell_type": "markdown",
   "id": "8e8ecbb8",
   "metadata": {},
   "source": [
    "### <span style=\"color:blue;\">BONUS [Extra 5% added to any workshops]: Use other classification approaches to label the unlabeled sentences. Evaluate your work using precision, recall, and f1 score.</span>"
   ]
  },
  {
   "cell_type": "code",
   "execution_count": null,
   "id": "982e055a",
   "metadata": {},
   "outputs": [],
   "source": []
  },
  {
   "cell_type": "code",
   "execution_count": null,
   "id": "ada2187d",
   "metadata": {},
   "outputs": [],
   "source": []
  },
  {
   "cell_type": "code",
   "execution_count": null,
   "id": "fcdfeaa7",
   "metadata": {},
   "outputs": [],
   "source": []
  },
  {
   "cell_type": "code",
   "execution_count": null,
   "id": "45a147eb",
   "metadata": {},
   "outputs": [],
   "source": []
  },
  {
   "cell_type": "code",
   "execution_count": null,
   "id": "9ca07e23",
   "metadata": {},
   "outputs": [],
   "source": []
  },
  {
   "cell_type": "code",
   "execution_count": null,
   "id": "9afd6548",
   "metadata": {},
   "outputs": [],
   "source": []
  }
 ],
 "metadata": {
  "kernelspec": {
   "display_name": "Python 3 (ipykernel)",
   "language": "python",
   "name": "python3"
  },
  "language_info": {
   "codemirror_mode": {
    "name": "ipython",
    "version": 3
   },
   "file_extension": ".py",
   "mimetype": "text/x-python",
   "name": "python",
   "nbconvert_exporter": "python",
   "pygments_lexer": "ipython3",
   "version": "3.11.5"
  }
 },
 "nbformat": 4,
 "nbformat_minor": 5
}
