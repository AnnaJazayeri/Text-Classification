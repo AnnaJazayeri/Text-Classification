{
 "cells": [
  {
   "cell_type": "markdown",
   "id": "c6deb1bf",
   "metadata": {},
   "source": [
    "## Anna Jazayeri 131661209\n",
    "### Workshop 5\n",
    "### Text Mining BDM 550"
   ]
  },
  {
   "cell_type": "code",
   "execution_count": 1,
   "id": "7d4a65d2",
   "metadata": {},
   "outputs": [],
   "source": [
    "import zipfile\n",
    "from nltk.tokenize import word_tokenize\n",
    "from nltk.corpus import stopwords\n",
    "import os\n",
    "import nltk\n",
    "from sklearn.feature_extraction.text import TfidfVectorizer"
   ]
  },
  {
   "cell_type": "markdown",
   "id": "1f3df20a",
   "metadata": {},
   "source": [
    "import numpy as np\n",
    "import re\n",
    "\n",
    "from sklearn.feature_extraction.text import TfidfTransformer\n",
    "import pandas as pd\n",
    "from sklearn.model_selection import train_test_split\n",
    "from sklearn.naive_bayes import *\n",
    "from sklearn.metrics import classification_report, confusion_matrix, accuracy_score\n",
    "from sklearn.ensemble import RandomForestClassifier\n",
    "from sklearn.tree import DecisionTreeClassifier\n",
    "from nltk.corpus import PlaintextCorpusReader"
   ]
  },
  {
   "cell_type": "markdown",
   "id": "0f23dc10",
   "metadata": {},
   "source": [
    "## <span style=\"color:blue;\">Task 1: Preprocess the text to remove any stop words or punctuations.</span>"
   ]
  },
  {
   "cell_type": "code",
   "execution_count": 2,
   "id": "bb86b6c1",
   "metadata": {},
   "outputs": [],
   "source": [
    "# first of all I must loading the files \n",
    "# import zipfile\n",
    "# Download and unzip the labeled and unlabeled datasets\n",
    "with zipfile.ZipFile('labeled_dataset.zip', 'r') as labeled_zip:\n",
    "    labeled_zip.extractall('labeled_dataset')\n",
    "\n",
    "with zipfile.ZipFile('unlabeled_dataset.zip', 'r') as unlabeled_zip:\n",
    "    unlabeled_zip.extractall('unlabeled_dataset')"
   ]
  },
  {
   "cell_type": "code",
   "execution_count": 3,
   "id": "f416433f",
   "metadata": {},
   "outputs": [],
   "source": [
    "# assigning the labeled and unlabeled datasets\n",
    "label = 'labeled_dataset'\n",
    "unlabel = 'unlabeled_dataset'"
   ]
  },
  {
   "cell_type": "code",
   "execution_count": 4,
   "id": "cf08d503",
   "metadata": {},
   "outputs": [],
   "source": [
    "# Now I must remove  the stopwords and punctuations\n",
    "# I create a funcion for this \n",
    "# from nltk.corpus import stopwords\n",
    "# import os\n",
    "# from nltk.tokenize import word_tokenize\n",
    "# import nltk\n",
    "\n",
    "def remove_stop_punc(txt):\n",
    "    # Tokenizing the text\n",
    "    tokens = nltk.word_tokenize(txt)\n",
    "    # removing the stopwords and punctuations\n",
    "    tokens = [word.lower() for word in tokens if word.isalnum() and word.lower() not in stopwords.words('english')]\n",
    "    # now the cleaned tokens must be join together as a string\n",
    "    clean_txt = ' '.join(tokens)\n",
    "    return clean_txt\n",
    "\n",
    "# now we should use a for loop to cleaning each corpura and then \n",
    "# and then storing those cleaned corpura inside of a list \n",
    "clean_label = []\n",
    "clean_unlabel = []\n",
    "\n",
    "# a for loop for cleaning the labeled texts\n",
    "for file in os.listdir(label):\n",
    "    if os.path.isfile(os.path.join(label, file)):\n",
    "        with open(os.path.join(label, file), 'r', encoding='utf-8') as file:\n",
    "            for line in file:\n",
    "                clean_label.append(remove_stop_punc(line.strip()))\n",
    "\n",
    "                \n",
    "# a for loop for cleaning the unlabeled texts\n",
    "for file in os.listdir(unlabel):\n",
    "    if os.path.isfile(os.path.join(unlabel, file)):\n",
    "        with open(os.path.join(unlabel, file), 'r', encoding='utf-8') as file:\n",
    "            for line in file:\n",
    "                clean_unlabel.append(remove_stop_punc(line.strip()))\n",
    "                "
   ]
  },
  {
   "cell_type": "code",
   "execution_count": 5,
   "id": "c97dffeb",
   "metadata": {},
   "outputs": [
    {
     "data": {
      "text/plain": [
       "['abstract',\n",
       " 'misc although internet level topology extensively studied past years little known details taxonomy',\n",
       " 'misc node represent wide variety organizations e g large isp small private business university vastly different network characteristics external connectivity patterns network growth tendencies properties hardly neglect working veracious internet representations simulation environments',\n",
       " 'aimx paper introduce radically new approach based machine learning techniques map ases internet natural taxonomy',\n",
       " 'ownx successfully classify number number percent ases expected accuracy number number percent']"
      ]
     },
     "execution_count": 5,
     "metadata": {},
     "output_type": "execute_result"
    }
   ],
   "source": [
    "# lets see our clean label list just for first 5 lines\n",
    "clean_label[:5]"
   ]
  },
  {
   "cell_type": "code",
   "execution_count": 6,
   "id": "41730919",
   "metadata": {
    "scrolled": true
   },
   "outputs": [
    {
     "data": {
      "text/plain": [
       "['abstract',\n",
       " 'transporter analyses conducted 141 organisms whose complete genome sequences available',\n",
       " 'organism complete set membrane transport systems identified predicted functions classified protein families based transporter classification system',\n",
       " 'organisms larger genome sizes generally possessed relatively greater number transport systems',\n",
       " 'prokaryotes unicellular eukaryotes significant factor increase transporter content genome size greater diversity transporter types']"
      ]
     },
     "execution_count": 6,
     "metadata": {},
     "output_type": "execute_result"
    }
   ],
   "source": [
    "# lets see our clean unlabel list just for first 5 lines\n",
    "clean_unlabel[:5]"
   ]
  },
  {
   "cell_type": "markdown",
   "id": "35898dbd",
   "metadata": {},
   "source": [
    "## <span style=\"color:blue;\">Task 2: Use TF-IDF to vectorize the sentences.</span>"
   ]
  },
  {
   "cell_type": "code",
   "execution_count": 7,
   "id": "2ff57c95",
   "metadata": {},
   "outputs": [],
   "source": [
    "# from sklearn.feature_extraction.text import TfidfVectorizer\n",
    "\n",
    "# vectorizing with TF-IDF vectorizer\n",
    "tfidf_vectorizer = TfidfVectorizer()\n",
    "# Fiting and transforming our clean label data\n",
    "tfidf_label = tfidf_vectorizer.fit_transform(clean_label)\n",
    "# Fiting and transforming our clean unlabel data\n",
    "tfidf_unlabel = tfidf_vectorizer.transform(clean_unlabel)"
   ]
  },
  {
   "cell_type": "markdown",
   "id": "eb902c31",
   "metadata": {},
   "source": [
    "## <span style=\"color:blue;\">Task 3: Use Scikit learn to create a (naïve bayes) classifier.</span>\n",
    "\n",
    "<span style=\"color:blue;\">**First create a classifier (naïve bayes) to classify the given dataset into 6 categories: (AIMX, OWNX, CONT, BASE, NUMBER, and MISC).<br>Then, use the classifier to label the sentences in the unlabeled dataset.**</span>\n",
    "\n"
   ]
  },
  {
   "cell_type": "code",
   "execution_count": null,
   "id": "4146feb1",
   "metadata": {},
   "outputs": [],
   "source": []
  },
  {
   "cell_type": "code",
   "execution_count": null,
   "id": "f383fa01",
   "metadata": {},
   "outputs": [],
   "source": []
  },
  {
   "cell_type": "markdown",
   "id": "021c460e",
   "metadata": {},
   "source": [
    "## <span style=\"color:blue;\">Task 4: Summarize your work and your findings in a few sentences.</span>"
   ]
  },
  {
   "cell_type": "code",
   "execution_count": null,
   "id": "6f092763",
   "metadata": {},
   "outputs": [],
   "source": []
  },
  {
   "cell_type": "code",
   "execution_count": null,
   "id": "464ddadc",
   "metadata": {},
   "outputs": [],
   "source": []
  },
  {
   "cell_type": "markdown",
   "id": "80db6ac7",
   "metadata": {},
   "source": [
    "### <span style=\"color:blue;\">BONUS [Extra 5% added to any workshops]: Use other classification approaches to label the unlabeled sentences. Evaluate your work using precision, recall, and f1 score.</span>"
   ]
  },
  {
   "cell_type": "code",
   "execution_count": null,
   "id": "853ab3f6",
   "metadata": {},
   "outputs": [],
   "source": []
  },
  {
   "cell_type": "code",
   "execution_count": null,
   "id": "75c18b31",
   "metadata": {},
   "outputs": [],
   "source": []
  },
  {
   "cell_type": "code",
   "execution_count": null,
   "id": "fcdfeaa7",
   "metadata": {},
   "outputs": [],
   "source": []
  },
  {
   "cell_type": "code",
   "execution_count": null,
   "id": "45a147eb",
   "metadata": {},
   "outputs": [],
   "source": []
  },
  {
   "cell_type": "code",
   "execution_count": null,
   "id": "9ca07e23",
   "metadata": {},
   "outputs": [],
   "source": []
  },
  {
   "cell_type": "code",
   "execution_count": null,
   "id": "9afd6548",
   "metadata": {},
   "outputs": [],
   "source": []
  }
 ],
 "metadata": {
  "kernelspec": {
   "display_name": "Python 3 (ipykernel)",
   "language": "python",
   "name": "python3"
  },
  "language_info": {
   "codemirror_mode": {
    "name": "ipython",
    "version": 3
   },
   "file_extension": ".py",
   "mimetype": "text/x-python",
   "name": "python",
   "nbconvert_exporter": "python",
   "pygments_lexer": "ipython3",
   "version": "3.11.5"
  }
 },
 "nbformat": 4,
 "nbformat_minor": 5
}
